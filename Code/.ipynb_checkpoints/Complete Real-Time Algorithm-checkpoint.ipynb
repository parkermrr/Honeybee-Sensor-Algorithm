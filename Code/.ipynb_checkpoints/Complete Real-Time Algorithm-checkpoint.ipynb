{
 "cells": [
  {
   "cell_type": "markdown",
   "id": "informed-prior",
   "metadata": {},
   "source": [
    "## Complete Real-Time Algorithm"
   ]
  },
  {
   "cell_type": "markdown",
   "id": "spread-endorsement",
   "metadata": {},
   "source": [
    "### Used Variables\n",
    "\n",
    "\\begin{equation}\n",
    "h, p, \\beta, x, d, \\alpha, A, y, i, j, l, w, b, m, s, v\n",
    "\\end{equation}"
   ]
  },
  {
   "cell_type": "markdown",
   "id": "worth-concrete",
   "metadata": {},
   "source": [
    "### Necessary Definitions"
   ]
  },
  {
   "cell_type": "markdown",
   "id": "invisible-participant",
   "metadata": {},
   "source": [
    "---\n",
    "\n",
    "$\\hat{h} \\in \\mathbb{R}$ := The measured length (in pixels) of a honeybee in the video, pre-sampled and averaged across $5$ different time points\n",
    "\n",
    "---\n",
    "\n",
    "$\\hat{p} \\in (0, 1) $ := The pre-fit probability threshold for the logistic regression model\n",
    "\n",
    "---\n",
    "\n",
    "$\\hat{\\beta}_0 \\in \\mathbb{R}$ := The pre-fit logistic regression intercept\n",
    "\n",
    "$\\hat{\\beta}_1 \\in \\mathbb{R}$ := The pre-fit logistic regression coefficient for mean distance\n",
    "\n",
    "$\\hat{\\beta}_2 \\in \\mathbb{R}$ := The pre-fit logistic regression coefficient for mean vertex angle\n",
    "\n",
    "$\\hat{\\beta}_3 \\in \\mathbb{R}$ := The pre-fit logistic regression coefficient for their interaction\n",
    "\n",
    "$\\hat{\\beta} = \\begin{bmatrix} \\hat{\\beta}_0 & \\hat{\\beta}_1 & \\hat{\\beta}_2 & \\hat{\\beta}_3 \\end{bmatrix}^T \\in \\mathbb{R}^4$\n",
    "\n",
    "---\n",
    "\n",
    "$y_k \\in \\left\\{ 0, 1 \\right\\}$ := The actual classification of a honeybee's location at time step $t = k$, where:\n",
    "* $y_k = 1$ signifies that the bee is on the waggle *run*, and \n",
    "* $y_k = 0$ signifies that the bee is on the *return* phase\n",
    "\n",
    "---\n",
    "\n",
    "$w(l)$, $b_-(l)$, $b_+(l)$, and $m(l)$ are defined (and can be computed prior to program execution for $l = 1, \\dots, 6$) as\n",
    "\n",
    "\\begin{align}\n",
    "w(l) & = 3l + 2 \\\\\n",
    "b_-(l) & = 2l \\\\\n",
    "b_+(l) & = l + 1 \\\\\n",
    "m(l) & = l - 1 \\\\\n",
    "\\end{align}\n",
    "\n",
    "---\n",
    "\n",
    "#### `getcurrentloc()`\n",
    "\n",
    "The function `getcurrentloc()` returns the current (meaning, at time step $t = k$) location of the honeybee. The location of the honeybee at time step $t = k$ is given by\n",
    "\n",
    "\\begin{equation}\n",
    "\\overrightarrow{x_k} = \\begin{bmatrix} x^{(1)}_k \\\\ x^{(2)}_k \\end{bmatrix} \\in \\mathbb{R}^2,\n",
    "\\end{equation}\n",
    "\n",
    "where $x^{(1)}_k$ is the honeybee's *horizontal* coordinate (in pixels) at time $k$ and $x^{(2)}_k$ is the honeybee's *vertical* coordinate (in pixels) at time $k$."
   ]
  },
  {
   "cell_type": "markdown",
   "id": "broke-performer",
   "metadata": {},
   "source": [
    "### Algorithm (Expressed Mathematically)"
   ]
  },
  {
   "cell_type": "markdown",
   "id": "contained-sender",
   "metadata": {},
   "source": [
    "\\begin{align*}\n",
    "& \\text{while} \\left( \\left( \\overrightarrow{x}_k \\leftarrow \\text{getcurrentloc()} \\right) \\neq \\text{NULL} \\right): \\\\\n",
    "\\\\\n",
    "& \\;\\;\\;\\;\\; \\tilde{x}_k = \\left\\{ \\overrightarrow{x}_{k - 2}, \\, \\overrightarrow{x}_{k - 1}, \\, \\overrightarrow{x}_k \\right\\} & \\text{# Location Buffer, as Array} \\\\\n",
    "\\\\\n",
    "& \\;\\;\\;\\;\\; d_k = \\frac{1}{\\hat{h}}\\cdot\\left\\Vert \\overrightarrow{x}_k - \\overrightarrow{x}_{k - 1} \\right\\Vert_2 \\in (0, \\approx 1] & \\text{# Distance (normalized by bee length)} \\\\\n",
    "& \\;\\;\\;\\;\\; \\tilde{d}_k = \\left\\{ d_{k - 5}, d_{k - 4}, d_{k - 3}, d_{k - 2}, d_{k - 1}, d_k \\right\\} & \\text{# Distance Buffer, as Array} \\\\\n",
    "\\\\\n",
    "& \\;\\;\\;\\;\\; \\alpha_{k - 1} = \\frac{1}{\\pi}\\cdot\\arccos{\\left(\\frac{\\frac{1}{\\hat{h}}\\cdot\\left\\Vert \\overrightarrow{x}_k - \\overrightarrow{x}_{k - 2} \\right\\Vert_2^2 - d_{k}^2 - d_{k - 1}^2}{2 \\cdot d_{k} \\cdot d_{k - 1}}\\right)} \\in [0, 1] & \\text{# Suppl. Vertex Angle (computed w/ the Law of Cosines, normalized by $\\pi$)} \\\\\n",
    "& \\;\\;\\;\\;\\; \\tilde{\\alpha}_k = \\left\\{ \\alpha_{k - 5}, \\alpha_{k - 4}, \\alpha_{k - 3}, \\alpha_{k - 2}, \\alpha_{k - 1} \\right\\} & \\text{# Angle Buffer, as Array} \\\\\n",
    "\\\\\n",
    "& \\;\\;\\;\\;\\; \\bar{d}_{k - 3} = \\frac{1}{6}\\sum_{i = k - 5}^k{d_i} & \\text{# Mean Distance} \\\\\n",
    "& \\;\\;\\;\\;\\; \\bar{\\alpha}_{k - 3} = \\frac{1}{5}\\sum_{i = k - 5}^{k - 1}{\\alpha_i} & \\text{# Mean Angle} \\\\\n",
    "\\\\\n",
    "& \\;\\;\\;\\;\\; \\overrightarrow{A}_{k - 3} = \\begin{bmatrix} 1 & \\bar{d}_{k - 3} & \\bar{\\alpha}_{k - 3} & \\bar{d}_{k - 3} \\cdot \\bar{\\alpha}_{k - 3} \\end{bmatrix}^T \\in \\mathbb{R}^4 \\\\\n",
    "\\\\\n",
    "& \\;\\;\\;\\;\\; \\hat{y}_{k - 3} = \\left\\lfloor \\left(\\frac{1}{1 + e^{-\\overrightarrow{A}_{k - 3}^T\\hat{\\beta}}}\\right) + \\left(1 - \\hat{p}\\right)\\right\\rfloor \\in \\left\\{ 0, 1 \\right\\} & \\text{# Predicted Class using pre-fit Logistic Regression Model} \\\\\n",
    "\\\\\n",
    "& \\;\\;\\;\\;\\; \\tilde{y}_k = \\left\\{ \\hat{y}_{k - 21}, \\dots, \\hat{y}_{k - 3} \\right\\} & \\text{# Prediction Buffer} \\\\\n",
    "\\\\\n",
    "& \\;\\;\\;\\;\\; i = k - 3 \\\\\n",
    "& \\;\\;\\;\\;\\; \\text{for } l = 1, \\dots, 4: \\\\ \n",
    "& \\;\\;\\;\\;\\; \\;\\;\\;\\;\\; i = i - b_+(l) \\\\\n",
    "& \\;\\;\\;\\;\\; \\;\\;\\;\\;\\; \\text{if } l = 4: \\\\\n",
    "& \\;\\;\\;\\;\\; \\;\\;\\;\\;\\; \\;\\;\\;\\;\\; i = i + b_+(3) \\\\\n",
    "& \\;\\;\\;\\;\\; \\;\\;\\;\\;\\; s_i = \\sum_{j = i - m(l)}^i{\\hat{y}_j} \\\\\n",
    "& \\;\\;\\;\\;\\; \\;\\;\\;\\;\\; \\text{if } \\left(\\left[\\frac{s_i}{l} \\text{ mod } 1\\right] == 0\\right) \\text{ and } \\left(\\hat{y}_{i - m} \\neq \\hat{y}_{i - m - 1}\\right) \\text{ and } \\left(\\hat{y}_i \\neq \\hat{y}_{i + 1}\\right): \\\\\n",
    "& \\;\\;\\;\\;\\; \\;\\;\\;\\;\\; \\;\\;\\;\\;\\; v_i = \\left\\lfloor \\frac{\\left[\\sum_{j = i - b_-}^{i + b_+}{\\hat{y}_j}\\right] - s_i}{w(l) - l } + \\frac{1}{2} \\right\\rfloor \\\\\n",
    "& \\;\\;\\;\\;\\; \\;\\;\\;\\;\\; \\;\\;\\;\\;\\; \\hat{y}_{i - j} = v_i, \\text{for } j = 0, 1, \\dots, m(l) \\\\\n",
    "\\\\\n",
    "& \\text{# At this point, all pts up through $y_{k - 13}$ have been smoothed} \\\\\n",
    "\\end{align*}"
   ]
  },
  {
   "cell_type": "markdown",
   "id": "lesbian-artist",
   "metadata": {},
   "source": [
    "### Algorithm (Expressed in Code)"
   ]
  },
  {
   "cell_type": "code",
   "execution_count": null,
   "id": "solved-auditor",
   "metadata": {},
   "outputs": [],
   "source": [
    "# No predictions for x_0, x_1, x_2"
   ]
  },
  {
   "cell_type": "code",
   "execution_count": null,
   "id": "synthetic-funds",
   "metadata": {},
   "outputs": [],
   "source": [
    "# x_3, y_3 at time step k = 16"
   ]
  },
  {
   "cell_type": "code",
   "execution_count": 114,
   "id": "matched-controversy",
   "metadata": {},
   "outputs": [
    {
     "data": {
      "text/plain": [
       "{1: 5, 2: 8, 3: 11, 4: 14}"
      ]
     },
     "execution_count": 114,
     "metadata": {},
     "output_type": "execute_result"
    }
   ],
   "source": [
    "# Tacked On:\n",
    "\n",
    "# For 10FPS: Discard runs that are 4 or 5 points or less (experiment with boundary)\n",
    "# For OriginalFPS: Discard runs that are less than 7 or 8 points or less (experiment with boundary)\n",
    "\n",
    "# - Total Least Squares\n",
    "# - - y_Buffer := All classifications (y) that are READY (and can be used to determine which points to include in TLS)\n",
    "# - - x_Buffer := All Locations Being Fed Into TLS algorithm, for which classifications (y) are ready"
   ]
  },
  {
   "cell_type": "code",
   "execution_count": 116,
   "id": "legal-thumb",
   "metadata": {
    "scrolled": true
   },
   "outputs": [],
   "source": [
    "dance = WaggleDance(locs_10fps_dir, locs_10fps_files[0])\n",
    "logreg_model = logreg_10fps_model\n",
    "\n",
    "x_buffer = [0] * 3 # { k-2, k-1, k }\n",
    "d_buffer = [0] * 6 # { k-5, k-4, k-3, k-2, k-1, k }\n",
    "alpha_buffer = [0] * 5 # { k-5, k-4, k-3, k-2, k-1 }\n",
    "y_buffer = [0] * 19 # { k-21, ..., k-3 }\n",
    "\n",
    "k = 0\n",
    "x_k = dance.getcurrentloc()\n",
    "while (len(x_k) != 0):\n",
    "#     print('Time Step: k = {:d}'.format(k))\n",
    "    x_buffer.pop(0)\n",
    "    x_buffer.append(x_k)\n",
    "    \n",
    "    if k >= 1:\n",
    "        d_k = euclid_dist(x_k, x_buffer[1])\n",
    "        d_buffer.pop(0)\n",
    "        d_buffer.append(d_k)\n",
    "        \n",
    "    if k >= 2: \n",
    "        alpha_kminus1 = suppl_vertex_angle(x_k, x_buffer[0], d_k, d_buffer[4])\n",
    "        alpha_buffer.pop(0)\n",
    "        alpha_buffer.append(alpha_kminus1)\n",
    "\n",
    "    if k >= 6:\n",
    "        d_bar_kminus3 = np.mean(d_buffer) / dance.h\n",
    "        alpha_bar_kminus3 = np.mean(alpha_buffer) / np.pi\n",
    "\n",
    "        A_kminus3 = np.array([1, d_bar_kminus3, alpha_bar_kminus3, d_bar_kminus3*alpha_bar_kminus3])\n",
    "\n",
    "        y_hat_kminus3 = logreg_model.predict(A_kminus3)\n",
    "        y_buffer.pop(0) # TODO - What do I do with the y_hat_minus22?\n",
    "        y_buffer.append(y_hat_kminus3)\n",
    "\n",
    "        print('Prediction at time k={:d}: {:d}'.format(k - 3, y_hat_kminus3))\n",
    "\n",
    "    if k >= 10: # Boundary for l = 1 (Single)\n",
    "        smooth_window(y_buffer, l=1, i=16) # i = 16 : Idx of y_hat_kminus8\n",
    "        \n",
    "    if k >= 15: # Boundary for l = 2 (Double)\n",
    "        smooth_window(y_buffer, l=2, i=13) # i = 13 : Idx of y_hat_kminus8\n",
    "        \n",
    "    if k >= 21: # Boundary for l = 3 (Triple)\n",
    "        smooth_window(y_buffer, l=3, i=9) # i = 9 : Idx of y_hat_kminus12\n",
    "        \n",
    "    if k >= 24: # Boundary for l = 4 (Quadruple)\n",
    "        smooth_window(y_buffer, l=4, i=8) # i = 8 : Idx of y_hat_kminus13\n",
    "        \n",
    "        y_ready = y_buffer[:8] # Points y_hat_kminus21 to y_hat_kminus13\n",
    "        \n",
    "    # NOTE: At this point, all points up to and incl. y_hat_kminus13 have been smoothed\n",
    "    # { k - 21, k - 20, k - 19, k - 18, k - 17, k - 16, k - 15, k - 14, k - 13 }\n",
    "    \n",
    "    # TODO - For the Kalman Filter, you need an initial set of parameters\n",
    "    # Create this by building any streaks of points longer than 5 points.\n",
    "          \n",
    "    k += 1\n",
    "    x_k = dance.getcurrentloc()\n",
    "    \n",
    "# while (len(y_buffer) != 0): # TODO - Compute how many left"
   ]
  },
  {
   "cell_type": "code",
   "execution_count": 127,
   "id": "secondary-colleague",
   "metadata": {},
   "outputs": [
    {
     "data": {
      "text/plain": [
       "(2, 3, 4, 5)"
      ]
     },
     "execution_count": 127,
     "metadata": {},
     "output_type": "execute_result"
    }
   ],
   "source": [
    "b_hi[1], b_hi[2], b_hi[3], b_hi[4]"
   ]
  },
  {
   "cell_type": "markdown",
   "id": "valuable-louisville",
   "metadata": {},
   "source": [
    "## Necessary Code\n",
    "\n",
    "(Not central to the algorithm itself, but makes the algorithm appear cleaner. Needs to be run first.)"
   ]
  },
  {
   "cell_type": "code",
   "execution_count": 128,
   "id": "manual-carry",
   "metadata": {},
   "outputs": [],
   "source": [
    "# Libraries\n",
    "import numpy as np\n",
    "import pandas as pd\n",
    "import os\n",
    "\n",
    "# Constants\n",
    "data_dir = '../Data/'\n",
    "metadata_file = '../Data/Dances_Metadata.csv'\n",
    "metadata = pd.read_csv(metadata_file)\n",
    "\n",
    "locs_10fps_dir = data_dir + 'Locations/10FPS/'\n",
    "locs_10fps_files = os.listdir(locs_10fps_dir)\n",
    "locs_10fps_files.remove('.DS_Store')\n",
    "locs_10fps_files.sort()\n",
    "\n",
    "locs_orig_dir = data_dir + 'Locations/Original/'\n",
    "locs_orig_files = os.listdir(locs_orig_dir)\n",
    "locs_orig_files.remove('.DS_Store')\n",
    "locs_orig_files.sort()\n",
    "\n",
    "all_models = pd.read_csv(data_dir + 'ClassificationModels/LogisticRegression.csv')\n",
    "\n",
    "# Window Parameters (Constants)\n",
    "w = {l:(3 * l + 2) for l in range(1, 4 + 1)}\n",
    "b_lo = {l:(2 * l) for l in range(1, 4 + 1)}\n",
    "b_hi = {l:(l + 1) for l in range(1, 4 + 1)}\n",
    "m = {l:(l - 1) for l in range(1, 4 + 1)}\n",
    "\n",
    "# Universal Functions\n",
    "def euclid_dist(pt1, pt2):\n",
    "    d = np.linalg.norm(pt1 - pt2)\n",
    "    return 0.00001 if np.isclose(d, 0) else d # To correct for numerical error\n",
    "\n",
    "def suppl_vertex_angle(x_k, x_kminus2, d_k, d_kminus1):\n",
    "    cos = ((euclid_dist(x_k, x_kminus2))**2 - d_k**2 - d_kminus1**2) / (2 * d_k * d_kminus1)\n",
    "    cos = 1 if np.isclose(cos, 1) else cos # To correct for numerical error\n",
    "    cos = -1 if np.isclose(cos, -1) else cos # To correct for numerical error\n",
    "    return np.arccos(cos)\n",
    "\n",
    "def smooth_window(y_buffer, l, i):\n",
    "    s_i = np.sum(y_buffer[(i - m[l]):(i + 1)])\n",
    "    if (((s_i / l) % 1) == 0) and (y_buffer[i - m[l]] != y_buffer[i - m[l] - 1]) and (y_buffer[i] != y_buffer[i + 1]):\n",
    "        v_i = ((((np.sum(y_buffer[(i - b_lo[l]):((i + b_hi[l]) + 1)]) - s_i) / (w[l] - l)) + 0.5) // 1)\n",
    "        y_buffer[(i - m[l]):(i + 1)] = v_i\n",
    "\n",
    "# Classes\n",
    "class LogisticRegressionModel():\n",
    "    def __init__(self, prob_threshold, coefs):\n",
    "        self.p = prob_threshold\n",
    "        self.beta = coefs\n",
    "        \n",
    "    def getprobthreshold(self):\n",
    "        return self.p\n",
    "        \n",
    "    def getcoefs(self):\n",
    "        return self.beta\n",
    "    \n",
    "    def predict(self, X):\n",
    "        return int((self._probability(X) + (1 - self.p)) // 1)\n",
    "    \n",
    "    def _probability(self, X):\n",
    "        return (1 / (1 + np.exp(-np.dot(X, self.beta))))\n",
    "        \n",
    "class WaggleDance():\n",
    "    def __init__(self, locs_dir, filename): \n",
    "        self.locs_dir = locs_dir\n",
    "        self.filename = filename\n",
    "        self.k = 0\n",
    "        self.h = metadata[metadata['DanceID'] == filename.replace('WaggleDance_', '')[:5]]['AvgBeeLength_Px'].values[0]\n",
    "        self.dance = pd.read_csv(locs_dir + filename)[['x', 'y']].to_numpy()\n",
    "    \n",
    "    def getcurrentloc(self):\n",
    "        if (self.k < len(self.dance)):\n",
    "            x_k = self.dance[self.k]\n",
    "            self.k += 1\n",
    "            return x_k\n",
    "        return np.array([])\n",
    "        \n",
    "    def reset(self):\n",
    "        self.k = 0\n",
    "        \n",
    "intercept, dist_coef, angle_coef, interact_coef, threshold, _, _, _ = all_models[all_models['Dataset'] == '10FPSDataset_v8'].to_numpy()[0]\n",
    "logreg_10fps_model = LogisticRegressionModel(threshold, [intercept, dist_coef, angle_coef, interact_coef])\n",
    "\n",
    "intercept, dist_coef, angle_coef, interact_coef, threshold, _, _, _ = all_models[all_models['Dataset'] == 'OriginalDataset_v8'].to_numpy()[0]\n",
    "logreg_orig_model = LogisticRegressionModel(threshold, [intercept, dist_coef, angle_coef, interact_coef])"
   ]
  },
  {
   "cell_type": "markdown",
   "id": "similar-addiction",
   "metadata": {},
   "source": [
    "---"
   ]
  }
 ],
 "metadata": {
  "kernelspec": {
   "display_name": "Python 3",
   "language": "python",
   "name": "python3"
  },
  "language_info": {
   "codemirror_mode": {
    "name": "ipython",
    "version": 3
   },
   "file_extension": ".py",
   "mimetype": "text/x-python",
   "name": "python",
   "nbconvert_exporter": "python",
   "pygments_lexer": "ipython3",
   "version": "3.9.10"
  }
 },
 "nbformat": 4,
 "nbformat_minor": 5
}
