{
 "cells": [
  {
   "cell_type": "markdown",
   "id": "critical-disaster",
   "metadata": {},
   "source": [
    "## Libraries"
   ]
  },
  {
   "cell_type": "code",
   "execution_count": null,
   "id": "smoking-crest",
   "metadata": {},
   "outputs": [],
   "source": [
    "import numpy as np\n",
    "import pandas as pd\n",
    "import os"
   ]
  },
  {
   "cell_type": "code",
   "execution_count": 2,
   "id": "dangerous-microwave",
   "metadata": {},
   "outputs": [],
   "source": [
    "locations_dir = '../Data/OriginalLocations/'\n",
    "metadata_file = '../Data/Dances_Metadata.csv'\n",
    "downsampled_locs_dir = '../Data/DownsampledLocations/'\n",
    "\n",
    "locations_files = os.listdir(locations_dir)\n",
    "locations_files.remove('.DS_Store')\n",
    "locations_files.sort()\n",
    "\n",
    "metadata = pd.read_csv(metadata_file)\n",
    "\n",
    "goal_fps = 10"
   ]
  },
  {
   "cell_type": "markdown",
   "id": "acquired-omaha",
   "metadata": {},
   "source": [
    "## Code"
   ]
  },
  {
   "cell_type": "code",
   "execution_count": 9,
   "id": "signed-reporter",
   "metadata": {},
   "outputs": [],
   "source": [
    "for i in range(len(locations_files)):\n",
    "    locations_file = locations_files[i]\n",
    "    locations_df = pd.read_csv(locations_dir + locations_file)\n",
    "    orig_fps = metadata['FramesPerSec'][i]\n",
    "\n",
    "    downsample_ratio = (orig_fps / goal_fps)\n",
    "    n_dupl_dances = (orig_fps // goal_fps)\n",
    "\n",
    "    dupl_dances = []\n",
    "    if ((orig_fps % goal_fps) != 0):\n",
    "        first_downsampled_dance = np.array([np.round(downsample_ratio * i) for i in range(int(np.ceil(len(locations_df) / downsample_ratio)))]).astype(int)\n",
    "        for j in range(n_dupl_dances):\n",
    "            downsampled_idcs = first_downsampled_dance + j\n",
    "            downsampled_idcs = downsampled_idcs[downsampled_idcs < len(locations_df)]\n",
    "            dupl_dances.append(downsampled_idcs)\n",
    "    else:\n",
    "        first_downsampled_dance = np.arange(len(locations_df))[::int(downsample_ratio)]\n",
    "        for j in range(n_dupl_dances):\n",
    "            downsampled_idcs = first_downsampled_dance + j\n",
    "            downsampled_idcs = downsampled_idcs[downsampled_idcs < len(locations_df)]\n",
    "            dupl_dances.append(downsampled_idcs)\n",
    "\n",
    "    for j in range(n_dupl_dances):\n",
    "        downsample_file = locations_file.replace('Locations.csv', '{:02d}'.format(j + 1) + '_Locations.csv')\n",
    "        locations_df.loc[dupl_dances[j]].to_csv(downsampled_locs_dir + downsample_file, index=False)"
   ]
  },
  {
   "cell_type": "code",
   "execution_count": null,
   "id": "attended-quality",
   "metadata": {},
   "outputs": [],
   "source": []
  }
 ],
 "metadata": {
  "kernelspec": {
   "display_name": "Python 3",
   "language": "python",
   "name": "python3"
  },
  "language_info": {
   "codemirror_mode": {
    "name": "ipython",
    "version": 3
   },
   "file_extension": ".py",
   "mimetype": "text/x-python",
   "name": "python",
   "nbconvert_exporter": "python",
   "pygments_lexer": "ipython3",
   "version": "3.9.9"
  }
 },
 "nbformat": 4,
 "nbformat_minor": 5
}
