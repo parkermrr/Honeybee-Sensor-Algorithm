{
 "cells": [
  {
   "cell_type": "markdown",
   "id": "coral-currency",
   "metadata": {},
   "source": [
    "## Libraries & Constants"
   ]
  },
  {
   "cell_type": "code",
   "execution_count": 1,
   "id": "adjusted-blind",
   "metadata": {},
   "outputs": [],
   "source": [
    "import numpy as np\n",
    "import pandas as pd\n",
    "import os\n",
    "\n",
    "data_dir = '../Data/'\n",
    "locations_dir = data_dir + 'Locations/'\n",
    "datasets = ['Original', '10FPS']\n",
    "\n",
    "metadata_file = '../Data/Dances_Metadata.csv'\n",
    "metadata = pd.read_csv(metadata_file)"
   ]
  },
  {
   "cell_type": "code",
   "execution_count": 2,
   "id": "offensive-tobago",
   "metadata": {},
   "outputs": [],
   "source": [
    "def compute_vertex_angle(prev_loc, vertex, next_loc):\n",
    "    a = np.linalg.norm(next_loc - prev_loc)\n",
    "    b = np.linalg.norm(vertex - prev_loc)\n",
    "    c = np.linalg.norm(next_loc - vertex) \n",
    "    a = 0.00001 if np.isclose(a, 0) else a\n",
    "    b = 0.00001 if np.isclose(b, 0) else b\n",
    "    c = 0.00001 if np.isclose(c, 0) else c\n",
    "    cos = (a**2 - b**2 - c**2) / (2 * b * c)\n",
    "    cos = 1 if np.isclose(cos, 1) else cos\n",
    "    cos = -1 if np.isclose(cos, -1) else cos\n",
    "    return np.arccos(cos)"
   ]
  },
  {
   "cell_type": "markdown",
   "id": "incorrect-spider",
   "metadata": {},
   "source": [
    "## Code\n",
    "\n",
    "Two Datasets:\n",
    "1. OriginalDataset\n",
    "2. 10FPSDataset"
   ]
  },
  {
   "cell_type": "code",
   "execution_count": 13,
   "id": "governing-reducing",
   "metadata": {},
   "outputs": [],
   "source": [
    "for dataset_name in datasets:\n",
    "    curr_dataset = []\n",
    "    dataset_locs_dir = locations_dir + dataset_name + '/'\n",
    "    locs_files = os.listdir(dataset_locs_dir)\n",
    "    if '.DS_Store' in locs_files:\n",
    "        locs_files.remove('.DS_Store')\n",
    "    locs_files.sort()\n",
    "\n",
    "    for i in range(len(locs_files)):\n",
    "        curr_dance = locs_files[i].replace('WaggleDance_', '').replace('_Locations.csv', '')\n",
    "        curr_bee_length = metadata['AvgBeeLength_Px'].loc[metadata['DanceID'] == curr_dance[:5]].values[0]\n",
    "        locs_df = pd.read_csv(dataset_locs_dir + 'WaggleDance_' + curr_dance + '_Locations.csv')\n",
    "        _, locs, dance_mvmt, _ = np.split(locs_df.to_numpy(), [1, 3, 4], axis=1)\n",
    "\n",
    "        loc_ids = np.array([curr_dance + '_' + '{:04d}'.format(j) for j in range(3, len(locs) - 3)]) # FIX\n",
    "\n",
    "        distances = [-100]\n",
    "        vertex_angles = [-100]\n",
    "        for j in range(1, len(locs)):\n",
    "            d_k = np.linalg.norm(locs[j] - locs[j - 1]) # Distance betw. curr_pt and prev_pt\n",
    "            d_k = 0.00001 if np.isclose(d_k, 0) else d_k\n",
    "            distances.append(d_k)\n",
    "            if j < len(locs) - 1:\n",
    "                a_k = compute_vertex_angle(locs[j - 1], locs[j], locs[j + 1])\n",
    "                vertex_angles.append(a_k)\n",
    "        distances = distances\n",
    "        vertex_angles = vertex_angles + [-100]\n",
    "\n",
    "        mean_consec_distances = []\n",
    "        mean_consec_vertex_angles = []\n",
    "        for j in range(3, len(locs) - 3): # FIX\n",
    "            mean_consec_distances.append(np.mean(distances[(j - 2):((j + 3) + 1)]))\n",
    "            mean_consec_vertex_angles.append(np.mean(vertex_angles[(j - 2):((j + 2) + 1)]))\n",
    "\n",
    "        mean_consec_distances = np.array(mean_consec_distances) / curr_bee_length\n",
    "        mean_consec_vertex_angles = np.array(mean_consec_vertex_angles) / np.pi\n",
    "        interactions = mean_consec_distances * mean_consec_vertex_angles\n",
    "        dance_mvmt = dance_mvmt.reshape(-1)[3:-3].astype(int) # FIX\n",
    "        dance_mvmt = np.where(dance_mvmt == 2, 0, dance_mvmt)\n",
    "\n",
    "        curr_dataset.append(np.vstack([loc_ids, mean_consec_distances, mean_consec_vertex_angles, interactions, dance_mvmt]).T) \n",
    "\n",
    "    curr_dataset = pd.DataFrame(np.vstack(curr_dataset), columns=['LocID', 'MeanConsecDistance', 'MeanConsecVertAngle', 'Interaction', 'MovementClass'])\n",
    "    curr_dataset.to_csv(data_dir + '/ClassificationDatasets/' + dataset_name + 'Dataset_v8.csv', index=False)"
   ]
  },
  {
   "cell_type": "code",
   "execution_count": null,
   "id": "naval-bankruptcy",
   "metadata": {},
   "outputs": [],
   "source": []
  }
 ],
 "metadata": {
  "kernelspec": {
   "display_name": "Python 3",
   "language": "python",
   "name": "python3"
  },
  "language_info": {
   "codemirror_mode": {
    "name": "ipython",
    "version": 3
   },
   "file_extension": ".py",
   "mimetype": "text/x-python",
   "name": "python",
   "nbconvert_exporter": "python",
   "pygments_lexer": "ipython3",
   "version": "3.9.9"
  }
 },
 "nbformat": 4,
 "nbformat_minor": 5
}
