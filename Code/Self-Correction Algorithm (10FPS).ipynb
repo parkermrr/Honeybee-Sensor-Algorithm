{
 "cells": [
  {
   "cell_type": "markdown",
   "id": "renewable-being",
   "metadata": {},
   "source": [
    "## Libraries"
   ]
  },
  {
   "cell_type": "code",
   "execution_count": 144,
   "id": "understood-acoustic",
   "metadata": {},
   "outputs": [],
   "source": [
    "import numpy as np\n",
    "import pandas as pd \n",
    "import matplotlib.pyplot as plt\n",
    "import os"
   ]
  },
  {
   "cell_type": "code",
   "execution_count": 145,
   "id": "peripheral-donor",
   "metadata": {},
   "outputs": [],
   "source": [
    "data_dir = '../Data/'\n",
    "locs_dir = data_dir + 'Locations/10FPS/'\n",
    "\n",
    "locs_files = os.listdir(locs_dir)\n",
    "locs_files.remove('.DS_Store')\n",
    "locs_files.sort()"
   ]
  },
  {
   "cell_type": "code",
   "execution_count": 146,
   "id": "three-mentor",
   "metadata": {},
   "outputs": [],
   "source": [
    "log_reg_model = pd.read_csv(data_dir + 'ClassificationModels/LogisticRegression.csv').to_numpy()[16]\n",
    "coefficients = log_reg_model[:4].astype(np.float64)\n",
    "threshold = log_reg_model[4]\n",
    "\n",
    "dataset = pd.read_csv(data_dir + 'ClassificationDatasets/10FPSDataset_v8.csv')"
   ]
  },
  {
   "cell_type": "code",
   "execution_count": 147,
   "id": "developmental-elite",
   "metadata": {},
   "outputs": [],
   "source": [
    "def classification_model(X, threshold):\n",
    "    probs = 1 / (1 + np.exp(- np.hstack([np.ones(len(X)).reshape(-1, 1), X]) @ coefficients))\n",
    "    return np.where(probs >= threshold, 1, 0)"
   ]
  },
  {
   "cell_type": "markdown",
   "id": "sunrise-messenger",
   "metadata": {},
   "source": [
    "## Self-Correcting Algorithm\n",
    "\n",
    "```\n",
    "# Algorithm in Full Form (Not Real-Time Form) & Not Allowing Combos & Not Including Edge Cases\n",
    "l = 5\n",
    "w = 3 * l + 2\n",
    "b_lo = w // 2\n",
    "b_hi = (w - 1) // 2\n",
    "m_lo = l // 2\n",
    "m_hi = (l - 1) // 2\n",
    "l, w, (b_lo, b_hi), (m_lo, m_hi)\n",
    "for i in range(b_lo,  n - b_hi):\n",
    "    s = np.sum(p[(i - m_lo):((i + m_hi) + 1)])\n",
    "    if (((s / l) % 1) == 0) and (p[i - m_lo] != p[i - m_lo - 1]) and (p[i + m_hi] != p[i + m_hi + 1]):\n",
    "        p[(i - m_lo):((i + m_hi) + 1)] = (((np.sum(p[(i - b_lo):((i + b_hi) + 1)]) - s) / (w - l)) + 0.5) // 1\n",
    "```"
   ]
  },
  {
   "cell_type": "markdown",
   "id": "periodic-identification",
   "metadata": {},
   "source": [
    "To smooth windows of length $l$ across the prediction vector $p \\in \\mathbb{R}^n$:\n",
    "\n",
    "\\begin{align}\n",
    "w & = 3l + 2 \\\\\n",
    "b_- & = \\left\\lfloor \\frac{w}{2} \\right\\rfloor \\\\\n",
    "b_+ & = \\left\\lfloor \\frac{w - 1}{2} \\right\\rfloor \\\\\n",
    "m_- & = \\left\\lfloor \\frac{l}{2} \\right\\rfloor \\\\\n",
    "m_+ & = \\left\\lfloor \\frac{l - 1}{2} \\right\\rfloor \\\\\n",
    "\\\\\n",
    "s & = \\sum_{j = i - m_-}^{i + m_+}{p_j} \\\\\n",
    "\\end{align}\n",
    "\n",
    "\\begin{align}\n",
    "\\text{for } & i = b_-, \\dots, n - b_+ - 1: \\\\\n",
    "& \\text{if } \\left(\\left(\\frac{s}{l} \\text{ % } 1 \\right) == 0\\right) \\text{ and } \\left(p_{i - m_-} != p_{i - m_- - 1} \\right) \\text{ and } \\left(p_{i + m_+} != p_{i + m_+ + 1} \\right): \\\\\n",
    "& \\;\\;\\;\\; v_i = \\left\\lfloor \\frac{\\left[ \\sum_{j = i - b_-}^{i + b_+}{p_j} \\right] - s}{w - l} + \\frac{1}{2} \\right\\rfloor \\\\\n",
    "& \\;\\;\\;\\; p_{i + k} = v_i, \\text{ for } k = -m_-, -m_- + 1, \\dots, 0, \\dots, m_+ - 1, m_+ \\\\\n",
    "\\end{align} "
   ]
  },
  {
   "cell_type": "code",
   "execution_count": 151,
   "id": "rental-refund",
   "metadata": {},
   "outputs": [
    {
     "data": {
      "text/plain": [
       "(2, 8, 4, 3, 1, 0)"
      ]
     },
     "execution_count": 151,
     "metadata": {},
     "output_type": "execute_result"
    }
   ],
   "source": [
    "compute_window_params(2)"
   ]
  },
  {
   "cell_type": "code",
   "execution_count": 148,
   "id": "emotional-compensation",
   "metadata": {},
   "outputs": [],
   "source": [
    "def compute_window_params(l):        \n",
    "    w = (3 * l) + 2\n",
    "    b_lo = w // 2\n",
    "    b_hi = (w - 1) // 2\n",
    "    m_lo = l // 2\n",
    "    m_hi = (l - 1) // 2  \n",
    "    return l, w, b_lo, b_hi, m_lo, m_hi\n",
    "\n",
    "def smooth_window(p, i, l, w, b_lo, b_hi, m_lo, m_hi): \n",
    "    s = np.sum(p[(i - m_lo):((i + m_hi) + 1)])\n",
    "    if (((s / l) % 1) == 0) and (p[i - m_lo] != p[i - m_lo - 1]) and (p[i + m_hi] != p[i + m_hi + 1]):\n",
    "        p[(i - m_lo):((i + m_hi) + 1)] = (((np.sum(p[(i - b_lo):((i + b_hi) + 1)]) - s) / (w - l)) + 0.5) // 1\n",
    "        \n",
    "def smooth_windows_of_length(p, l, incl_next=False):\n",
    "    window_params = compute_window_params(l)\n",
    "    b_lo, b_hi = window_params[2:4]\n",
    "    for i in range(b_lo,  len(p) - b_hi):\n",
    "        smooth_window(p, i, *window_params) \n",
    "        if incl_next:\n",
    "            smooth_window(p, i, *compute_window_params(l + 1))"
   ]
  },
  {
   "cell_type": "code",
   "execution_count": 149,
   "id": "checked-background",
   "metadata": {
    "scrolled": true
   },
   "outputs": [
    {
     "name": "stdout",
     "output_type": "stream",
     "text": [
      "Original Acc: 0.8741226017781937\n",
      "New Acc: 0.879425986585556\n"
     ]
    }
   ],
   "source": [
    "all_preds = []\n",
    "all_orig_preds = []\n",
    "for locs_file in locs_files:\n",
    "    dance_no = locs_file.replace('WaggleDance_', '').replace('_Locations.csv', '')\n",
    "#     print(dance_no)\n",
    "    dataframe = pd.read_csv(locs_dir + locs_file)\n",
    "    dance_mvmt = dataframe['dance_movement'].to_numpy()\n",
    "    dance_mvmt = np.where(dance_mvmt == 2, 0, dance_mvmt)\n",
    "    input_data = dataset[dataset['LocID'].str.match(dance_no + '_[0-9]*')][['MeanConsecDistance', 'MeanConsecVertAngle', 'Interaction']].to_numpy().astype(np.float64)\n",
    "\n",
    "    p = classification_model(input_data, threshold).astype(int)\n",
    "    p_orig = p.copy()\n",
    "    \n",
    "    smooth_windows_of_length(p, l=1)\n",
    "    smooth_windows_of_length(p, l=2)\n",
    "    smooth_windows_of_length(p, l=3, incl_next=True)\n",
    "        \n",
    "    all_preds.append(p)\n",
    "    all_orig_preds.append(p_orig)\n",
    "#     print('Orig: ', np.mean(p_orig == dance_mvmt[3:-3]), 'New: ', np.mean(p == dance_mvmt[3:-3]))\n",
    "#     print('')\n",
    "\n",
    "#     orig_incorrect_idcs = np.where(dance_mvmt != np.concatenate([[-1, -1, -1], p_orig, [-1, -1, -1]]))[0][3:-3]\n",
    "#     new_incorrect_idcs = np.where(dance_mvmt != np.concatenate([[-1, -1, -1], p, [-1, -1, -1]]))[0][3:-3]\n",
    "\n",
    "#     plt.figure()\n",
    "#     plt.title(locs_file)\n",
    "#     plt.plot(locs[:, 0], locs[:, 1], color='grey', label='Dance Path')\n",
    "#     plt.plot(locs[:, 0], locs[:, 1], marker='.', linestyle='None', markersize=5, color='grey')\n",
    "#     plt.plot(locs[:, 0][new_incorrect_idcs], locs[:, 1][new_incorrect_idcs], marker='.', linestyle='None', markersize=5, color='red', label='Misclassified')\n",
    "#     plt.legend()\n",
    "#     plt.show()\n",
    "    \n",
    "#     dataframe['Predictions'] = np.concatenate([[-1, -1, -1], y_pred, [-1, -1, -1]])\n",
    "#     dataframe.to_csv(locs_dir + locs_file, index=False)\n",
    "    \n",
    "print('Original Acc:', np.mean(np.concatenate(all_orig_preds) == dataset['MovementClass'].to_numpy()))\n",
    "print('New Acc:', np.mean(np.concatenate(all_preds) == dataset['MovementClass'].to_numpy()))"
   ]
  },
  {
   "cell_type": "code",
   "execution_count": null,
   "id": "satisfied-civilization",
   "metadata": {},
   "outputs": [],
   "source": [
    "# Original:\n",
    "# (S): 0.9341819759872704\n",
    "\n",
    "# (S), (D): 0.9379430059308549\n",
    "\n",
    "# (S), (D), (T): 0.9422826558657602\n",
    "\n",
    "# (S), (D), (T), (Q): 0.9451757558223637\n",
    "\n",
    "# (S), (D), (T), (Q), (P): 0.9457543758136844\n",
    "\n",
    "# (S), (D), (T), (Q), (P), (S): 0.9466223058006654\n",
    "# (S, D), (T, Q), (P), (S): 0.9477795457833068\n",
    "# (S, D), (T, Q), (P, S): 0.9477795457833068"
   ]
  }
 ],
 "metadata": {
  "kernelspec": {
   "display_name": "Python 3",
   "language": "python",
   "name": "python3"
  },
  "language_info": {
   "codemirror_mode": {
    "name": "ipython",
    "version": 3
   },
   "file_extension": ".py",
   "mimetype": "text/x-python",
   "name": "python",
   "nbconvert_exporter": "python",
   "pygments_lexer": "ipython3",
   "version": "3.9.10"
  }
 },
 "nbformat": 4,
 "nbformat_minor": 5
}
