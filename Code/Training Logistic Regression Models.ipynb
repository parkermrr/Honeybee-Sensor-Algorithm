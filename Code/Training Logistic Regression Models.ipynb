{
 "cells": [
  {
   "cell_type": "markdown",
   "id": "european-queue",
   "metadata": {},
   "source": [
    "## Libraries + Constants"
   ]
  },
  {
   "cell_type": "code",
   "execution_count": 1,
   "id": "acting-style",
   "metadata": {},
   "outputs": [],
   "source": [
    "from sklearn.linear_model import LogisticRegression\n",
    "import numpy as np\n",
    "import pandas as pd\n",
    "\n",
    "data_dir = '../Data/'\n",
    "locations_dir = data_dir + 'Locations/'\n",
    "datasets = ['Original', '10FPS', '10FPS_DuplDances']\n",
    "\n",
    "metadata_file = '../Data/Dances_Metadata.csv'\n",
    "metadata = pd.read_csv(metadata_file)"
   ]
  },
  {
   "cell_type": "markdown",
   "id": "close-fighter",
   "metadata": {},
   "source": []
  }
 ],
 "metadata": {
  "kernelspec": {
   "display_name": "Python 3",
   "language": "python",
   "name": "python3"
  },
  "language_info": {
   "codemirror_mode": {
    "name": "ipython",
    "version": 3
   },
   "file_extension": ".py",
   "mimetype": "text/x-python",
   "name": "python",
   "nbconvert_exporter": "python",
   "pygments_lexer": "ipython3",
   "version": "3.9.9"
  }
 },
 "nbformat": 4,
 "nbformat_minor": 5
}
